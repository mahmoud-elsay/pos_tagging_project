{
 "cells": [
  {
   "cell_type": "markdown",
   "metadata": {},
   "source": [
    "## import libs"
   ]
  },
  {
   "cell_type": "code",
   "execution_count": 261,
   "metadata": {},
   "outputs": [
    {
     "name": "stderr",
     "output_type": "stream",
     "text": [
      "[nltk_data] Downloading package averaged_perceptron_tagger_eng to\n",
      "[nltk_data]     C:\\Users\\elsay\\AppData\\Roaming\\nltk_data...\n",
      "[nltk_data]   Package averaged_perceptron_tagger_eng is already up-to-\n",
      "[nltk_data]       date!\n",
      "[nltk_data] Downloading package punkt_tab to\n",
      "[nltk_data]     C:\\Users\\elsay\\AppData\\Roaming\\nltk_data...\n",
      "[nltk_data]   Package punkt_tab is already up-to-date!\n",
      "[nltk_data] Downloading package averaged_perceptron_tagger to\n",
      "[nltk_data]     C:\\Users\\elsay\\AppData\\Roaming\\nltk_data...\n",
      "[nltk_data]   Package averaged_perceptron_tagger is already up-to-\n",
      "[nltk_data]       date!\n"
     ]
    },
    {
     "data": {
      "text/plain": [
       "True"
      ]
     },
     "execution_count": 261,
     "metadata": {},
     "output_type": "execute_result"
    }
   ],
   "source": [
    "import string\n",
    "import nltk\n",
    "from nltk.tokenize import sent_tokenize, word_tokenize\n",
    "from nltk.corpus import stopwords\n",
    "from nltk.stem import PorterStemmer, WordNetLemmatizer\n",
    "import pandas as pd\n",
    "import matplotlib.pyplot as plt\n",
    "import seaborn as sns\n",
    "from collections import Counter\n",
    "import re\n",
    "from nltk import FreqDist\n",
    "import seaborn as sns\n",
    "from sklearn.metrics import confusion_matrix\n",
    "\n",
    "nltk.download(\"averaged_perceptron_tagger_eng\")\n",
    "nltk.download(\"punkt_tab\")\n",
    "nltk.download(\"averaged_perceptron_tagger\")"
   ]
  },
  {
   "cell_type": "code",
   "execution_count": 262,
   "metadata": {},
   "outputs": [],
   "source": [
    "df = pd.read_csv(\"Spam_SMS.csv\")"
   ]
  },
  {
   "cell_type": "code",
   "execution_count": 263,
   "metadata": {},
   "outputs": [
    {
     "data": {
      "text/html": [
       "<div>\n",
       "<style scoped>\n",
       "    .dataframe tbody tr th:only-of-type {\n",
       "        vertical-align: middle;\n",
       "    }\n",
       "\n",
       "    .dataframe tbody tr th {\n",
       "        vertical-align: top;\n",
       "    }\n",
       "\n",
       "    .dataframe thead th {\n",
       "        text-align: right;\n",
       "    }\n",
       "</style>\n",
       "<table border=\"1\" class=\"dataframe\">\n",
       "  <thead>\n",
       "    <tr style=\"text-align: right;\">\n",
       "      <th></th>\n",
       "      <th>Class</th>\n",
       "      <th>Message</th>\n",
       "    </tr>\n",
       "  </thead>\n",
       "  <tbody>\n",
       "    <tr>\n",
       "      <th>0</th>\n",
       "      <td>ham</td>\n",
       "      <td>Go until jurong point, crazy.. Available only ...</td>\n",
       "    </tr>\n",
       "    <tr>\n",
       "      <th>1</th>\n",
       "      <td>ham</td>\n",
       "      <td>Ok lar... Joking wif u oni...</td>\n",
       "    </tr>\n",
       "    <tr>\n",
       "      <th>2</th>\n",
       "      <td>spam</td>\n",
       "      <td>Free entry in 2 a wkly comp to win FA Cup fina...</td>\n",
       "    </tr>\n",
       "    <tr>\n",
       "      <th>3</th>\n",
       "      <td>ham</td>\n",
       "      <td>U dun say so early hor... U c already then say...</td>\n",
       "    </tr>\n",
       "    <tr>\n",
       "      <th>4</th>\n",
       "      <td>ham</td>\n",
       "      <td>Nah I don't think he goes to usf, he lives aro...</td>\n",
       "    </tr>\n",
       "  </tbody>\n",
       "</table>\n",
       "</div>"
      ],
      "text/plain": [
       "  Class                                            Message\n",
       "0   ham  Go until jurong point, crazy.. Available only ...\n",
       "1   ham                      Ok lar... Joking wif u oni...\n",
       "2  spam  Free entry in 2 a wkly comp to win FA Cup fina...\n",
       "3   ham  U dun say so early hor... U c already then say...\n",
       "4   ham  Nah I don't think he goes to usf, he lives aro..."
      ]
     },
     "execution_count": 263,
     "metadata": {},
     "output_type": "execute_result"
    }
   ],
   "source": [
    "df.head()"
   ]
  },
  {
   "cell_type": "code",
   "execution_count": 264,
   "metadata": {},
   "outputs": [
    {
     "data": {
      "text/plain": [
       "Class      0\n",
       "Message    0\n",
       "dtype: int64"
      ]
     },
     "execution_count": 264,
     "metadata": {},
     "output_type": "execute_result"
    }
   ],
   "source": [
    "df.isnull().sum()"
   ]
  },
  {
   "cell_type": "code",
   "execution_count": 265,
   "metadata": {},
   "outputs": [
    {
     "data": {
      "text/plain": [
       "[('you', 1921),\n",
       " ('the', 1328),\n",
       " ('and', 968),\n",
       " ('for', 703),\n",
       " ('your', 677),\n",
       " ('have', 571),\n",
       " ('call', 559),\n",
       " ('are', 486),\n",
       " ('that', 470),\n",
       " ('but', 422),\n",
       " ('not', 410),\n",
       " ('can', 385),\n",
       " ('with', 379),\n",
       " ('will', 379),\n",
       " (\"i'm\", 377),\n",
       " ('get', 375),\n",
       " ('just', 365),\n",
       " ('this', 312),\n",
       " ('when', 283),\n",
       " ('from', 277),\n",
       " ('&lt;#&gt;', 276),\n",
       " ('all', 261),\n",
       " ('how', 254),\n",
       " ('what', 251),\n",
       " ('now', 247),\n",
       " ('like', 236),\n",
       " ('got', 235),\n",
       " ('know', 230),\n",
       " ('was', 230),\n",
       " ('free', 228),\n",
       " ('out', 220),\n",
       " ('come', 220),\n",
       " ('its', 208),\n",
       " ('then', 205),\n",
       " ('good', 201),\n",
       " ('send', 187),\n",
       " ('only', 184),\n",
       " ('want', 183),\n",
       " ('text', 175),\n",
       " ('time', 169),\n",
       " (\"i'll\", 168),\n",
       " ('love', 163),\n",
       " ('...', 163),\n",
       " ('going', 161),\n",
       " ('need', 157),\n",
       " ('about', 156),\n",
       " ('still', 151),\n",
       " ('one', 150),\n",
       " ('txt', 149),\n",
       " ('see', 145)]"
      ]
     },
     "execution_count": 265,
     "metadata": {},
     "output_type": "execute_result"
    }
   ],
   "source": [
    "# Get most common words\n",
    "all_words = []\n",
    "\n",
    "for line in df[\"Message\"]:\n",
    "    words = line.split()\n",
    "    for word in words:\n",
    "        if len(word) > 2:\n",
    "            all_words.append(word.lower())\n",
    "\n",
    "Counter(all_words).most_common(50)"
   ]
  },
  {
   "cell_type": "markdown",
   "metadata": {},
   "source": [
    "## text preprocessing\n",
    " apply lemmatiztion "
   ]
  },
  {
   "cell_type": "code",
   "execution_count": 266,
   "metadata": {},
   "outputs": [],
   "source": [
    "stop_words = stopwords.words(\"english\")\n",
    "\n",
    "\n",
    "def text_preprocessing(text):\n",
    "    # Make all words lowercase\n",
    "    text = text.lower()\n",
    "\n",
    "    # Remove  punction,number & spical char\n",
    "    text = re.sub(\"[^a-zA-z]\", \" \", text)\n",
    "\n",
    "    # Single char removel\n",
    "    text = re.sub(r\"\\s+[a-zA-z]\\s+\", \" \", text)\n",
    "\n",
    "    # Remove multi spaces\n",
    "    text = re.sub(r\"\\s+\", \" \", text)\n",
    "\n",
    "    # Make a sentence to toknize\n",
    "    tokens = word_tokenize(text)\n",
    "\n",
    "    # Remove Stopwords\n",
    "    final_token = [i for i in tokens if i not in stop_words]\n",
    "\n",
    "    # Apply lemma\n",
    "    final_words = []\n",
    "    lemma = WordNetLemmatizer()\n",
    "    for i in final_token:\n",
    "        if len(i) > 2:\n",
    "            word = lemma.lemmatize(i)\n",
    "            final_words.append(word)\n",
    "    return \" \".join(final_words)"
   ]
  },
  {
   "cell_type": "code",
   "execution_count": 267,
   "metadata": {},
   "outputs": [
    {
     "name": "stdout",
     "output_type": "stream",
     "text": [
      "Text Preprocessing is done\n"
     ]
    }
   ],
   "source": [
    "df[\"Clean_Text\"] = df[\"Message\"].apply(lambda x: text_preprocessing(x))\n",
    "print(\"Text Preprocessing is done\")"
   ]
  },
  {
   "cell_type": "code",
   "execution_count": 268,
   "metadata": {},
   "outputs": [
    {
     "data": {
      "text/html": [
       "<div>\n",
       "<style scoped>\n",
       "    .dataframe tbody tr th:only-of-type {\n",
       "        vertical-align: middle;\n",
       "    }\n",
       "\n",
       "    .dataframe tbody tr th {\n",
       "        vertical-align: top;\n",
       "    }\n",
       "\n",
       "    .dataframe thead th {\n",
       "        text-align: right;\n",
       "    }\n",
       "</style>\n",
       "<table border=\"1\" class=\"dataframe\">\n",
       "  <thead>\n",
       "    <tr style=\"text-align: right;\">\n",
       "      <th></th>\n",
       "      <th>Class</th>\n",
       "      <th>Message</th>\n",
       "      <th>Clean_Text</th>\n",
       "    </tr>\n",
       "  </thead>\n",
       "  <tbody>\n",
       "    <tr>\n",
       "      <th>0</th>\n",
       "      <td>ham</td>\n",
       "      <td>Go until jurong point, crazy.. Available only ...</td>\n",
       "      <td>jurong point crazy available bugis great world...</td>\n",
       "    </tr>\n",
       "    <tr>\n",
       "      <th>1</th>\n",
       "      <td>ham</td>\n",
       "      <td>Ok lar... Joking wif u oni...</td>\n",
       "      <td>lar joking wif oni</td>\n",
       "    </tr>\n",
       "    <tr>\n",
       "      <th>2</th>\n",
       "      <td>spam</td>\n",
       "      <td>Free entry in 2 a wkly comp to win FA Cup fina...</td>\n",
       "      <td>free entry wkly comp win cup final tkts may te...</td>\n",
       "    </tr>\n",
       "    <tr>\n",
       "      <th>3</th>\n",
       "      <td>ham</td>\n",
       "      <td>U dun say so early hor... U c already then say...</td>\n",
       "      <td>dun say early hor already say</td>\n",
       "    </tr>\n",
       "    <tr>\n",
       "      <th>4</th>\n",
       "      <td>ham</td>\n",
       "      <td>Nah I don't think he goes to usf, he lives aro...</td>\n",
       "      <td>nah think go usf life around though</td>\n",
       "    </tr>\n",
       "  </tbody>\n",
       "</table>\n",
       "</div>"
      ],
      "text/plain": [
       "  Class                                            Message  \\\n",
       "0   ham  Go until jurong point, crazy.. Available only ...   \n",
       "1   ham                      Ok lar... Joking wif u oni...   \n",
       "2  spam  Free entry in 2 a wkly comp to win FA Cup fina...   \n",
       "3   ham  U dun say so early hor... U c already then say...   \n",
       "4   ham  Nah I don't think he goes to usf, he lives aro...   \n",
       "\n",
       "                                          Clean_Text  \n",
       "0  jurong point crazy available bugis great world...  \n",
       "1                                 lar joking wif oni  \n",
       "2  free entry wkly comp win cup final tkts may te...  \n",
       "3                      dun say early hor already say  \n",
       "4                nah think go usf life around though  "
      ]
     },
     "execution_count": 268,
     "metadata": {},
     "output_type": "execute_result"
    }
   ],
   "source": [
    "df.head()"
   ]
  },
  {
   "cell_type": "code",
   "execution_count": 269,
   "metadata": {},
   "outputs": [],
   "source": [
    "df.drop(columns=[\"Message\"], axis=1, inplace=True)\n",
    "df.head()\n",
    "x = df[\"Clean_Text\"]\n",
    "y = df[\"Class\"]"
   ]
  },
  {
   "cell_type": "code",
   "execution_count": 270,
   "metadata": {},
   "outputs": [],
   "source": [
    "text = \" \".join(x.iloc[:5])"
   ]
  },
  {
   "cell_type": "code",
   "execution_count": 271,
   "metadata": {},
   "outputs": [
    {
     "data": {
      "text/plain": [
       "'jurong point crazy available bugis great world buffet cine got amore wat lar joking wif oni free entry wkly comp win cup final tkts may text receive entry question std txt rate apply dun say early hor already say nah think go usf life around though'"
      ]
     },
     "execution_count": 271,
     "metadata": {},
     "output_type": "execute_result"
    }
   ],
   "source": [
    "text"
   ]
  },
  {
   "cell_type": "markdown",
   "metadata": {},
   "source": [
    "## Apply Feature Extraction"
   ]
  },
  {
   "cell_type": "code",
   "execution_count": 272,
   "metadata": {},
   "outputs": [
    {
     "name": "stdout",
     "output_type": "stream",
     "text": [
      "Shape of document vectors: (5574, 100)\n",
      "\n",
      "Vector for first document: [-0.13102828  0.09826288  0.0368695   0.00972941  0.01604686 -0.23977573\n",
      "  0.0362924   0.32479069 -0.09981447 -0.04417266] ...\n",
      "\n",
      "Most similar words to 'free':\n",
      "text: 0.9996\n",
      "mobile: 0.9996\n",
      "phone: 0.9995\n",
      "reply: 0.9995\n",
      "get: 0.9995\n",
      "txt: 0.9995\n",
      "msg: 0.9995\n",
      "call: 0.9995\n",
      "send: 0.9995\n",
      "please: 0.9995\n"
     ]
    }
   ],
   "source": [
    "from gensim.models import Word2Vec\n",
    "import numpy as np\n",
    "\n",
    "# Convert text to list of words for Word2Vec\n",
    "sentences = [text.split() for text in df[\"Clean_Text\"]]\n",
    "\n",
    "# Train Word2Vec model\n",
    "w2v_model = Word2Vec(\n",
    "    sentences,\n",
    "    vector_size=100,  # Dimension of word vectors\n",
    "    window=5,  # Context window size\n",
    "    min_count=1,  # Ignore words that appear less than this\n",
    "    workers=4,\n",
    ")  # Number of threads to train the model\n",
    "\n",
    "\n",
    "# Function to create document vectors by averaging word vectors\n",
    "def document_vector(text, model):\n",
    "    words = text.split()\n",
    "    word_vecs = []\n",
    "    for word in words:\n",
    "        try:\n",
    "            word_vecs.append(model.wv[word])\n",
    "        except KeyError:\n",
    "            continue\n",
    "    if word_vecs:\n",
    "        return np.mean(word_vecs, axis=0)\n",
    "    else:\n",
    "        return np.zeros(model.vector_size)\n",
    "\n",
    "\n",
    "# Create document vectors for all texts\n",
    "doc_vectors = np.array([document_vector(text, w2v_model) for text in df[\"Clean_Text\"]])\n",
    "\n",
    "# Now doc_vectors can be used like binary_vectorized in your model\n",
    "# Shape will be (n_documents, vector_size)\n",
    "print(\"Shape of document vectors:\", doc_vectors.shape)\n",
    "\n",
    "# Example: show vector for first document\n",
    "print(\"\\nVector for first document:\", doc_vectors[0][:10], \"...\")\n",
    "\n",
    "# Example: find most similar words to a specific word\n",
    "word = \"free\"  # you can change this to any word in your dataset\n",
    "if word in w2v_model.wv:\n",
    "    print(f\"\\nMost similar words to '{word}':\")\n",
    "    similar_words = w2v_model.wv.most_similar(word)\n",
    "    for w, score in similar_words:\n",
    "        print(f\"{w}: {score:.4f}\")"
   ]
  },
  {
   "cell_type": "markdown",
   "metadata": {},
   "source": [
    "# apply pos tagging "
   ]
  },
  {
   "cell_type": "code",
   "execution_count": 273,
   "metadata": {},
   "outputs": [],
   "source": [
    "import nltk\n",
    "from nltk import pos_tag\n",
    "from nltk.tokenize import word_tokenize\n",
    "import numpy as np\n",
    "from gensim.models import Word2Vec\n",
    "\n",
    "\n",
    "def pos_tag_text(text):\n",
    "    \"\"\"\n",
    "    Apply POS tagging to text and return tagged tokens\n",
    "    \"\"\"\n",
    "    tokens = word_tokenize(text)\n",
    "    tagged = pos_tag(tokens)\n",
    "    # Return word_tag format\n",
    "    return [f\"{word}_{tag}\" for word, tag in tagged]\n",
    "\n",
    "\n",
    "# Add POS tagged text as a new feature\n",
    "df[\"POS_Tagged\"] = df[\"Clean_Text\"].apply(pos_tag_text)\n",
    "\n",
    "# Prepare sentences for Word2Vec (including POS tags)\n",
    "pos_sentences = df[\"POS_Tagged\"].tolist()\n",
    "\n",
    "# Train Word2Vec model on POS tagged text\n",
    "w2v_model_pos = Word2Vec(\n",
    "    pos_sentences, vector_size=100, window=5, min_count=1, workers=4\n",
    ")"
   ]
  },
  {
   "cell_type": "code",
   "execution_count": 274,
   "metadata": {},
   "outputs": [],
   "source": [
    "# Function to create document vectors with POS information\n",
    "def document_vector_pos(tagged_tokens, model):\n",
    "    word_vecs = []\n",
    "    for token in tagged_tokens:\n",
    "        try:\n",
    "            word_vecs.append(model.wv[token])\n",
    "        except KeyError:\n",
    "            continue\n",
    "    return np.mean(word_vecs, axis=0) if word_vecs else np.zeros(model.vector_size)\n",
    "\n",
    "\n",
    "# Create document vectors for all texts\n",
    "doc_vectors_pos = np.array(\n",
    "    [document_vector_pos(tokens, w2v_model_pos) for tokens in df[\"POS_Tagged\"]]\n",
    ")"
   ]
  },
  {
   "cell_type": "code",
   "execution_count": 275,
   "metadata": {},
   "outputs": [
    {
     "ename": "ImportError",
     "evalue": "cannot import name 'accuracy_score' from 'sklearn.base' (c:\\Users\\elsay\\Downloads\\venv\\lib\\site-packages\\sklearn\\base.py)",
     "output_type": "error",
     "traceback": [
      "\u001b[1;31m---------------------------------------------------------------------------\u001b[0m",
      "\u001b[1;31mImportError\u001b[0m                               Traceback (most recent call last)",
      "Cell \u001b[1;32mIn[275], line 1\u001b[0m\n\u001b[1;32m----> 1\u001b[0m \u001b[38;5;28;01mfrom\u001b[39;00m \u001b[38;5;21;01msklearn\u001b[39;00m\u001b[38;5;21;01m.\u001b[39;00m\u001b[38;5;21;01mbase\u001b[39;00m \u001b[38;5;28;01mimport\u001b[39;00m accuracy_score\n\u001b[0;32m      2\u001b[0m \u001b[38;5;28;01mfrom\u001b[39;00m \u001b[38;5;21;01msklearn\u001b[39;00m\u001b[38;5;21;01m.\u001b[39;00m\u001b[38;5;21;01mmodel_selection\u001b[39;00m \u001b[38;5;28;01mimport\u001b[39;00m train_test_split\n\u001b[0;32m      3\u001b[0m \u001b[38;5;28;01mfrom\u001b[39;00m \u001b[38;5;21;01msklearn\u001b[39;00m\u001b[38;5;21;01m.\u001b[39;00m\u001b[38;5;21;01mtree\u001b[39;00m \u001b[38;5;28;01mimport\u001b[39;00m DecisionTreeClassifier\n",
      "\u001b[1;31mImportError\u001b[0m: cannot import name 'accuracy_score' from 'sklearn.base' (c:\\Users\\elsay\\Downloads\\venv\\lib\\site-packages\\sklearn\\base.py)"
     ]
    }
   ],
   "source": [
    "from sklearn.base import accuracy_score\n",
    "from sklearn.model_selection import train_test_split\n",
    "from sklearn.tree import DecisionTreeClassifier\n",
    "\n",
    "# Split the data\n",
    "X_train, X_test, y_train, y_test = train_test_split(\n",
    "    doc_vectors_pos, y, test_size=0.2, random_state=42\n",
    ")\n",
    "\n",
    "# Train the model\n",
    "dt = DecisionTreeClassifier(random_state=42)\n",
    "dt.fit(X_train, y_train)\n",
    "\n",
    "# Make predictions\n",
    "y_pred = dt.predict(X_test)\n",
    "\n",
    "# Print results\n",
    "print(\"\\nAccuracy with POS-Word2Vec:\", accuracy_score(y_test, y_pred))\n",
    "print(\"\\nClassification Report:\")\n",
    "print(classification_report(y_test, y_pred))"
   ]
  },
  {
   "cell_type": "code",
   "execution_count": null,
   "metadata": {},
   "outputs": [
    {
     "data": {
      "image/png": "[encoded data removed]",
      "text/plain": [
       "<Figure size 800x600 with 2 Axes>"
      ]
     },
     "metadata": {},
     "output_type": "display_data"
    },
    {
     "name": "stdout",
     "output_type": "stream",
     "text": [
      "\n",
      "Example of POS tagged text and its vector:\n",
      "Original: jurong point crazy available bugis great world buffet cine got amore wat\n",
      "Tagged: ['jurong_JJ', 'point_NN', 'crazy_NN', 'available_JJ', 'bugis_NN', 'great_JJ', 'world_NN', 'buffet_NN', 'cine_NN', 'got_VBD', 'amore_RB', 'wat_JJ']\n",
      "Vector (first 10 dimensions): [-0.01445547  0.02543177  0.01314407  0.00727506  0.00391404 -0.04657569\n",
      "  0.01527675  0.06892476 -0.02103374 -0.01889854]\n"
     ]
    }
   ],
   "source": [
    "# Plot confusion matrix\n",
    "plt.figure(figsize=(8, 6))\n",
    "cm = confusion_matrix(y_test, y_pred)\n",
    "sns.heatmap(cm, annot=True, fmt=\"d\", cmap=\"Blues\")\n",
    "plt.xlabel(\"Predicted Label\")\n",
    "plt.ylabel(\"True Label\")\n",
    "plt.title(\"Confusion Matrix with POS-Word2Vec\")\n",
    "plt.show()\n",
    "\n",
    "# Example of vector representation\n",
    "print(\"\\nExample of POS tagged text and its vector:\")\n",
    "print(\"Original:\", df[\"Clean_Text\"].iloc[0])\n",
    "print(\"Tagged:\", df[\"POS_Tagged\"].iloc[0])\n",
    "print(\"Vector (first 10 dimensions):\", doc_vectors_pos[0][:10])"
   ]
  },
  {
   "cell_type": "code",
   "execution_count": null,
   "metadata": {},
   "outputs": [
    {
     "data": {
      "image/png": "[encoded data removed]",
      "text/plain": [
       "<Figure size 1200x800 with 1 Axes>"
      ]
     },
     "metadata": {},
     "output_type": "display_data"
    },
    {
     "name": "stdout",
     "output_type": "stream",
     "text": [
      "\n",
      "Number of unique POS tags: 33\n",
      "\n",
      "POS Tag Counts:\n",
      "Counter({'NN': 22104, 'JJ': 7526, 'RB': 2637, 'VB': 2107, 'VBP': 1842, 'VBD': 1651, 'VBG': 1642, 'NNS': 1068, 'VBN': 826, 'IN': 810, 'MD': 305, 'CD': 277, 'VBZ': 222, 'JJS': 155, 'DT': 154, 'JJR': 75, 'RBR': 71, 'FW': 62, 'CC': 49, 'WP': 47, 'NNP': 43, 'RP': 40, 'WRB': 34, 'PRP': 24, 'WDT': 20, 'UH': 18, 'RBS': 7, 'now': 3, 'WP$': 2, '': 2, 'PDT': 1, 'POS': 1, 'EX': 1})\n"
     ]
    }
   ],
   "source": [
    "import matplotlib.pyplot as plt\n",
    "import seaborn as sns\n",
    "from collections import Counter\n",
    "\n",
    "# Extract all POS tags from the POS_Tagged column\n",
    "all_tags = [\n",
    "    tag.split(\"_\")[1] for tagged_text in df[\"POS_Tagged\"] for tag in tagged_text\n",
    "]\n",
    "\n",
    "# Count the occurrences of each POS tag\n",
    "tag_counts = Counter(all_tags)\n",
    "\n",
    "# Set the style for the plot\n",
    "sns.set(style=\"whitegrid\")\n",
    "\n",
    "# Create a stylish bar plot with customized colors\n",
    "plt.figure(figsize=(12, 8))\n",
    "ax = plt.bar(\n",
    "    tag_counts.keys(),\n",
    "    tag_counts.values(),\n",
    "    color=sns.color_palette(\"viridis\", len(tag_counts)),\n",
    ")\n",
    "\n",
    "# Add labels and title with customized font sizes\n",
    "plt.xlabel(\"POS Tags\", fontsize=14, labelpad=10)\n",
    "plt.ylabel(\"Frequency\", fontsize=14, labelpad=10)\n",
    "plt.title(\"Distribution of POS Tags in the Dataset\", fontsize=16, pad=20)\n",
    "\n",
    "# Rotate x-axis labels and adjust spacing\n",
    "plt.xticks(rotation=45, ha=\"right\", fontsize=12)\n",
    "plt.yticks(fontsize=12)\n",
    "\n",
    "# Add gridlines for better readability\n",
    "plt.grid(axis=\"y\", linestyle=\"--\", alpha=0.7)\n",
    "\n",
    "# Show the plot with enhanced style\n",
    "plt.tight_layout()\n",
    "plt.show()\n",
    "\n",
    "# Print the number of unique POS tags and their counts\n",
    "print(\"\\nNumber of unique POS tags:\", len(tag_counts))\n",
    "print(\"\\nPOS Tag Counts:\")\n",
    "print(tag_counts)"
   ]
  }
 ],
 "metadata": {
  "kernelspec": {
   "display_name": "venv",
   "language": "python",
   "name": "python3"
  },
  "language_info": {
   "codemirror_mode": {
    "name": "ipython",
    "version": 3
   },
   "file_extension": ".py",
   "mimetype": "text/x-python",
   "name": "python",
   "nbconvert_exporter": "python",
   "pygments_lexer": "ipython3",
   "version": "3.10.6"
  }
 },
 "nbformat": 4,
 "nbformat_minor": 2
}
